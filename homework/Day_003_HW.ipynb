{
 "cells": [
  {
   "cell_type": "markdown",
   "metadata": {},
   "source": [
    "## [作業目標]\n",
    "持續接觸有關機器學習的相關專案與最新技術"
   ]
  },
  {
   "cell_type": "markdown",
   "metadata": {},
   "source": [
    "## [作業重點]\n",
    "透過觀察頂尖公司的機器學習文章，來了解各公司是怎麼應用機器學習在實際的專案上"
   ]
  },
  {
   "cell_type": "markdown",
   "metadata": {},
   "source": [
    "## [作業]\n",
    "今天的作業希望大家能夠看看全球機器學習巨頭們在做的機器學習專案。以 google 為例，下圖是 Google 內部專案使用機器學習的數量，隨著時間進展，現在早已超過 2000 個專案在使用機器學習。"
   ]
  },
  {
   "cell_type": "markdown",
   "metadata": {},
   "source": [
    "![image](https://cdn-images-1.medium.com/max/800/1*U_L8qI8RmYS-MOBrYvXhSA.png)"
   ]
  },
  {
   "cell_type": "markdown",
   "metadata": {},
   "source": [
    "底下幫同學整理幾間知名企業的 blog 或機器學習網站 (自行搜尋也可)，這些網站都會整理最新的機器學習專案或者是技術文章，請挑選一篇文章閱讀並試著回答\n",
    "\n",
    "1. 專案的目標？ (要解決什麼問題)\n",
    " 神經網路結構截至目前為止大多以神經網路連結及神經元之間的權重組成，其中“權重”必須透過層層機器學習來加以優化整個系統，然而作者提出新的觀點是，打造一個不需要學習的神經網絡Weight Agnostic Neural Networks(WANNs)。\n",
    " \n",
    "2. 使用的技術是？ (只需知道名稱即可，例如：使用 CNN 卷積神經網路做影像分類)\n",
    " 核心技術受Topology Search啟發，並透過四個步驟來優化結構：\n",
    "    1. 以最少神經網路拓僕結構來創建一個群组(population)\n",
    "    2. 在上述的population中，测试每一个神經網路的各方面的性能\n",
    "    3. 呈上測試，根據性能和複雜度進行排序\n",
    "    4. 通過排序的结果，改變排名最高的網路結構，再生成一個新的population\n",
    "    並重複2.3.4的步驟直至得出最佳(優於前幾代)的網路神經系統。\n",
    "    這類似物競天擇的概念，透過測試與重新排序的輪徊來挑出較優的系統。\n",
    " \n",
    "3. 資料來源？ \n",
    "  (1)原始論文：https://arxiv.org/abs/1906.04358\n",
    "  (2)Google AI blog：https://ai.googleblog.com\n",
    "  (3)https://weightagnostic.github.io"
   ]
  },
  {
   "cell_type": "markdown",
   "metadata": {},
   "source": [
    "- [Google AI blog](https://ai.googleblog.com/)\n",
    "- [Facebook Research blog](https://research.fb.com/blog/)\n",
    "- [Apple machine learning journal](https://machinelearning.apple.com/)\n",
    "- [機器之心](https://www.jiqizhixin.com/)\n",
    "- [雷鋒網](http://www.leiphone.com/category/ai)"
   ]
  },
  {
   "cell_type": "code",
   "execution_count": null,
   "metadata": {},
   "outputs": [],
   "source": []
  }
 ],
 "metadata": {
  "kernelspec": {
   "display_name": "Python 3",
   "language": "python",
   "name": "python3"
  },
  "language_info": {
   "codemirror_mode": {
    "name": "ipython",
    "version": 3
   },
   "file_extension": ".py",
   "mimetype": "text/x-python",
   "name": "python",
   "nbconvert_exporter": "python",
   "pygments_lexer": "ipython3",
   "version": "3.7.1"
  }
 },
 "nbformat": 4,
 "nbformat_minor": 2
}
